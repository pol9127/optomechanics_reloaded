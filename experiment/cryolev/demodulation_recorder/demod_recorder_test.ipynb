{
 "cells": [
  {
   "cell_type": "code",
   "execution_count": 1,
   "metadata": {},
   "outputs": [],
   "source": [
    "from demodulation_recorder import mfli_demod_recorder\n",
    "import time"
   ]
  },
  {
   "cell_type": "code",
   "execution_count": 2,
   "metadata": {},
   "outputs": [],
   "source": [
    "mdrec = mfli_demod_recorder('129.132.1.185')"
   ]
  },
  {
   "cell_type": "code",
   "execution_count": 3,
   "metadata": {},
   "outputs": [],
   "source": [
    "freq_particle = 20.7e3\n",
    "freq_Het_LO = 1e6 \n",
    "mdrec.config_demods('dev4968', 0, {'oscselect': 0, 'freq': 0, 'adcselect': 0, 'harmonic': 1,\n",
    "                                   'order': 8, 'filter3dB': 1e3, 'rate': 13e3, 'phaseshift': 0, 'enable': 1})\n",
    "mdrec.config_demods('dev4968', 1, {'oscselect': 1, 'freq': freq_particle, 'adcselect': 0, 'harmonic': 1,\n",
    "                                   'order': 8, 'filter3dB': 3e3, 'rate': 26e3, 'phaseshift': 0, 'enable': 1})\n",
    "mdrec.config_demods('dev4968', 2, {'oscselect': 2, 'freq': freq_Het_LO - freq_particle, 'adcselect': 0, 'harmonic': 1,\n",
    "                                   'order': 8, 'filter3dB': 3e3, 'rate': 26e3, 'phaseshift': 0, 'enable': 1})\n",
    "mdrec.config_demods('dev4968', 3, {'oscselect': 3, 'freq': freq_Het_LO + freq_particle, 'adcselect': 0, 'harmonic': 1,\n",
    "                                   'order': 8, 'filter3dB': 3e3, 'rate': 26e3, 'phaseshift': 0, 'enable': 1})"
   ]
  },
  {
   "cell_type": "code",
   "execution_count": 4,
   "metadata": {},
   "outputs": [],
   "source": [
    "mdrec.set_demod_list({'DC': ('dev4968', 0), 'Homodyne': ('dev4968', 1), \n",
    "                      'Left': ('dev4968', 2), 'Right': ('dev4968', 3)})"
   ]
  },
  {
   "cell_type": "code",
   "execution_count": 5,
   "metadata": {},
   "outputs": [
    {
     "name": "stdout",
     "output_type": "stream",
     "text": [
      "time elapsed: 2.3901264667510986\n"
     ]
    }
   ],
   "source": [
    "before = time.time()\n",
    "dat = mdrec.record_timtrace(2, ['auxin0'])\n",
    "print('time elapsed:', time.time()- before)"
   ]
  },
  {
   "cell_type": "code",
   "execution_count": 8,
   "metadata": {},
   "outputs": [
    {
     "data": {
      "text/plain": [
       "60000000.0"
      ]
     },
     "execution_count": 8,
     "metadata": {},
     "output_type": "execute_result"
    }
   ],
   "source": [
    "1/dat['DC']['dt']"
   ]
  },
  {
   "cell_type": "code",
   "execution_count": null,
   "metadata": {},
   "outputs": [],
   "source": []
  }
 ],
 "metadata": {
  "kernelspec": {
   "display_name": "Python 3.7",
   "language": "python",
   "name": "python37"
  },
  "language_info": {
   "codemirror_mode": {
    "name": "ipython",
    "version": 3
   },
   "file_extension": ".py",
   "mimetype": "text/x-python",
   "name": "python",
   "nbconvert_exporter": "python",
   "pygments_lexer": "ipython3",
   "version": "3.7.2"
  }
 },
 "nbformat": 4,
 "nbformat_minor": 4
}
