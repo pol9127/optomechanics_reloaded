{
 "cells": [
  {
   "cell_type": "code",
   "execution_count": 1,
   "metadata": {},
   "outputs": [],
   "source": [
    "from cold_damp_filter_ctrl import cold_damp_filter_ctrl as filt_ctrl\n",
    "from biquad_calculator import calcBiquad"
   ]
  },
  {
   "cell_type": "code",
   "execution_count": 2,
   "metadata": {},
   "outputs": [
    {
     "name": "stderr",
     "output_type": "stream",
     "text": [
      "/usr/local/anaconda3/envs/python37/lib/python3.7/site-packages/paramiko/ecdsakey.py:164: CryptographyDeprecationWarning: Support for unsafe construction of public numbers from encoded data will be removed in a future version. Please use EllipticCurvePublicKey.from_encoded_point\n",
      "  self.ecdsa_curve.curve_class(), pointinfo\n",
      "/usr/local/anaconda3/envs/python37/lib/python3.7/site-packages/paramiko/kex_ecdh_nist.py:39: CryptographyDeprecationWarning: encode_point has been deprecated on EllipticCurvePublicNumbers and will be removed in a future version. Please use EllipticCurvePublicKey.public_bytes to obtain both compressed and uncompressed point encoding.\n",
      "  m.add_string(self.Q_C.public_numbers().encode_point())\n",
      "/usr/local/anaconda3/envs/python37/lib/python3.7/site-packages/paramiko/kex_ecdh_nist.py:96: CryptographyDeprecationWarning: Support for unsafe construction of public numbers from encoded data will be removed in a future version. Please use EllipticCurvePublicKey.from_encoded_point\n",
      "  self.curve, Q_S_bytes\n",
      "/usr/local/anaconda3/envs/python37/lib/python3.7/site-packages/paramiko/kex_ecdh_nist.py:111: CryptographyDeprecationWarning: encode_point has been deprecated on EllipticCurvePublicNumbers and will be removed in a future version. Please use EllipticCurvePublicKey.public_bytes to obtain both compressed and uncompressed point encoding.\n",
      "  hm.add_string(self.Q_C.public_numbers().encode_point())\n"
     ]
    },
    {
     "name": "stdout",
     "output_type": "stream",
     "text": [
      "ftp_tmp\n",
      "Bitfile Loaded\n"
     ]
    }
   ],
   "source": [
    "#### Cold damping filter initialization\n",
    "fc = filt_ctrl()\n",
    "fc.load_bitfile()"
   ]
  },
  {
   "cell_type": "code",
   "execution_count": 3,
   "metadata": {},
   "outputs": [],
   "source": [
    "\n",
    "fc.set_input(1) #1: particle, 2: MFLI 4968, output.\n",
    "fc.set_output(1, 'input')\n",
    "fc.set_output(2, 'input')\n",
    "\n"
   ]
  },
  {
   "cell_type": "code",
   "execution_count": 5,
   "metadata": {},
   "outputs": [],
   "source": [
    "#### Cold damping filter setup\n",
    "cd_output = 'biquad2'\n",
    "fc.set_output(2, cd_output)\n",
    "fc.set_output(1, cd_output)\n",
    "\n",
    "fc.set_input(1) #1: particle, 2: MFLI 4968, output.\n",
    "\n",
    "fc.set_delay_raw(4)\n",
    "fc.set_delay_fine(0)\n",
    "\n",
    "fc.reset_and_start()\n",
    "\n",
    "fc.set_switch('RF1')\n",
    "\n",
    "def cd_fc_get_settings(total_gain_db):\n",
    "    db_left = total_gain_db\n",
    "    att=0\n",
    "    if total_gain_db < 10:\n",
    "        att = 36\n",
    "        db_left += 36\n",
    "    amplifier_db = int((db_left+9)/10)*10\n",
    "    if amplifier_db > 60:\n",
    "        amplifier_db = 60\n",
    "    elif amplifier_db < 10:\n",
    "        amplifier_db = 10\n",
    "    db_left -= amplifier_db;\n",
    "    if db_left>0:\n",
    "        raise NotImplementedError('Too much gain, can\\'t do!, Gain=', total_gain_db)\n",
    "    else:\n",
    "        add_att_db = -db_left\n",
    "        return {'Attenuator': att,\n",
    "                'Amplifier': amplifier_db,\n",
    "                'AddAtten': add_att_db}\n",
    "\n",
    "def config_cd_filter(gain, x_notch_freq=146.839e3, y_notch_freq=165.353e3):\n",
    "    settings = cd_fc_get_settings(gain)\n",
    "    add_att_linear = 10**(-settings['AddAtten']/20)\n",
    "    print('Linear Gain in RPi:', add_att_linear)\n",
    "    print('Amplifier Gain (dB):', settings['Amplifier'])\n",
    "    print('External Attenuator (dB):', settings['Attenuator'])\n",
    "\n",
    "    fc.configure_biquad(1, *calcBiquad(biquad_type='notch', Fs=fc.fs, Fc=x_notch_freq, Q=5, gain=-1))\n",
    "    fc.configure_biquad(2, *calcBiquad(biquad_type='notch', Fs=fc.fs, Fc=y_notch_freq, Q=5, gain=add_att_linear))\n",
    "    fc.reset_and_start()\n",
    "    fc.set_amplifier_gain(settings['Amplifier'])\n",
    "    fc.set_attenuator(settings['Attenuator'])"
   ]
  },
  {
   "cell_type": "code",
   "execution_count": 14,
   "metadata": {},
   "outputs": [
    {
     "name": "stdout",
     "output_type": "stream",
     "text": [
      "Linear Gain in RPi: 0.35481338923357547\n",
      "Amplifier Gain (dB): 30\n",
      "External Attenuator (dB): 36\n"
     ]
    }
   ],
   "source": [
    "config_cd_filter(-15, 154.5e3, 190e3)\n",
    "fc.reset_and_start()"
   ]
  },
  {
   "cell_type": "code",
   "execution_count": 40,
   "metadata": {},
   "outputs": [],
   "source": [
    "## for reheating experiments. After executing, the RF switch will switch back and forth \n",
    "fc.toggle_switch(187, 0.0215,0.0317)"
   ]
  },
  {
   "cell_type": "code",
   "execution_count": 7,
   "metadata": {},
   "outputs": [],
   "source": [
    "## Needed to reset after reheating experiments\n",
    "fc.set_switch('RF1')"
   ]
  },
  {
   "cell_type": "code",
   "execution_count": 25,
   "metadata": {},
   "outputs": [
    {
     "data": {
      "text/plain": [
       "11.703999999999999"
      ]
     },
     "execution_count": 25,
     "metadata": {},
     "output_type": "execute_result"
    }
   ],
   "source": [
    "(0.0215 + 0.0317)*220"
   ]
  },
  {
   "cell_type": "code",
   "execution_count": 10,
   "metadata": {},
   "outputs": [
    {
     "data": {
      "text/plain": [
       "187.5"
      ]
     },
     "execution_count": 10,
     "metadata": {},
     "output_type": "execute_result"
    }
   ],
   "source": [
    "750/4"
   ]
  },
  {
   "cell_type": "code",
   "execution_count": 28,
   "metadata": {},
   "outputs": [
    {
     "data": {
      "text/plain": [
       "187.9699248120301"
      ]
     },
     "execution_count": 28,
     "metadata": {},
     "output_type": "execute_result"
    }
   ],
   "source": [
    "10/((0.0215 + 0.0317))"
   ]
  },
  {
   "cell_type": "code",
   "execution_count": null,
   "metadata": {},
   "outputs": [],
   "source": []
  }
 ],
 "metadata": {
  "kernelspec": {
   "display_name": "Python 3.7",
   "language": "python",
   "name": "python37"
  },
  "language_info": {
   "codemirror_mode": {
    "name": "ipython",
    "version": 3
   },
   "file_extension": ".py",
   "mimetype": "text/x-python",
   "name": "python",
   "nbconvert_exporter": "python",
   "pygments_lexer": "ipython3",
   "version": "3.7.2"
  }
 },
 "nbformat": 4,
 "nbformat_minor": 4
}
